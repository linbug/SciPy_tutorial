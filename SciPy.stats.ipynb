{
 "cells": [
  {
   "cell_type": "markdown",
   "metadata": {},
   "source": [
    "#SciPy"
   ]
  },
  {
   "cell_type": "code",
   "execution_count": 34,
   "metadata": {
    "collapsed": true
   },
   "outputs": [],
   "source": [
    "import numpy as np\n",
    "import pandas as pd\n",
    "import scipy.stats.stats as st\n",
    "import matplotlib.pyplot as plt\n",
    "import seaborn as sns\n",
    "%matplotlib inline"
   ]
  },
  {
   "cell_type": "code",
   "execution_count": 3,
   "metadata": {
    "collapsed": false
   },
   "outputs": [],
   "source": [
    "heights = np.array([1.46, 1.79, 2.01, 1.75, 1.56, 1.69, 1.88, 1.76, 1.88, 1.78])"
   ]
  },
  {
   "cell_type": "code",
   "execution_count": 4,
   "metadata": {
    "collapsed": false
   },
   "outputs": [
    {
     "name": "stdout",
     "output_type": "stream",
     "text": [
      "mean: 1.756\n",
      "min: 1.46\n",
      "max: 2.01\n",
      "standard deviation: 0.150811140172\n"
     ]
    }
   ],
   "source": [
    "#This is all with numpy \n",
    "print \"mean:\", heights.mean()\n",
    "print \"min:\", heights.min()\n",
    "print \"max:\", heights.max()\n",
    "print \"standard deviation:\", heights.std()"
   ]
  },
  {
   "cell_type": "code",
   "execution_count": 45,
   "metadata": {
    "collapsed": true
   },
   "outputs": [],
   "source": [
    "heights_df = pd.DataFrame(heights)"
   ]
  },
  {
   "cell_type": "code",
   "execution_count": 15,
   "metadata": {
    "collapsed": false
   },
   "outputs": [],
   "source": [
    "heights_df.columns = ['heights']"
   ]
  },
  {
   "cell_type": "code",
   "execution_count": 46,
   "metadata": {
    "collapsed": false
   },
   "outputs": [
    {
     "data": {
      "text/html": [
       "<div>\n",
       "<table border=\"1\" class=\"dataframe\">\n",
       "  <thead>\n",
       "    <tr style=\"text-align: right;\">\n",
       "      <th></th>\n",
       "      <th>0</th>\n",
       "    </tr>\n",
       "  </thead>\n",
       "  <tbody>\n",
       "    <tr>\n",
       "      <th>0</th>\n",
       "      <td>1.46</td>\n",
       "    </tr>\n",
       "    <tr>\n",
       "      <th>1</th>\n",
       "      <td>1.79</td>\n",
       "    </tr>\n",
       "    <tr>\n",
       "      <th>2</th>\n",
       "      <td>2.01</td>\n",
       "    </tr>\n",
       "    <tr>\n",
       "      <th>3</th>\n",
       "      <td>1.75</td>\n",
       "    </tr>\n",
       "    <tr>\n",
       "      <th>4</th>\n",
       "      <td>1.56</td>\n",
       "    </tr>\n",
       "    <tr>\n",
       "      <th>5</th>\n",
       "      <td>1.69</td>\n",
       "    </tr>\n",
       "    <tr>\n",
       "      <th>6</th>\n",
       "      <td>1.88</td>\n",
       "    </tr>\n",
       "    <tr>\n",
       "      <th>7</th>\n",
       "      <td>1.76</td>\n",
       "    </tr>\n",
       "    <tr>\n",
       "      <th>8</th>\n",
       "      <td>1.88</td>\n",
       "    </tr>\n",
       "    <tr>\n",
       "      <th>9</th>\n",
       "      <td>1.78</td>\n",
       "    </tr>\n",
       "  </tbody>\n",
       "</table>\n",
       "</div>"
      ],
      "text/plain": [
       "      0\n",
       "0  1.46\n",
       "1  1.79\n",
       "2  2.01\n",
       "3  1.75\n",
       "4  1.56\n",
       "5  1.69\n",
       "6  1.88\n",
       "7  1.76\n",
       "8  1.88\n",
       "9  1.78"
      ]
     },
     "execution_count": 46,
     "metadata": {},
     "output_type": "execute_result"
    }
   ],
   "source": [
    "heights_df"
   ]
  },
  {
   "cell_type": "code",
   "execution_count": 47,
   "metadata": {
    "collapsed": false
   },
   "outputs": [
    {
     "name": "stdout",
     "output_type": "stream",
     "text": [
      "max: 0    2.01\n",
      "dtype: float64\n",
      "standard deviation: 0    0.158969\n",
      "dtype: float64\n",
      "kurtosis: 0    0.379705\n",
      "dtype: float64\n",
      "skew: 0   -0.466663\n",
      "dtype: float64\n"
     ]
    }
   ],
   "source": [
    "#This is all with pandas \n",
    "print \"max:\",heights_df.max()\n",
    "print \"standard deviation:\", heights_df.std()\n",
    "print \"kurtosis:\", heights_df.kurtosis() # you can't use kurtosis in numpy\n",
    "print \"skew:\", heights_df.skew()"
   ]
  },
  {
   "cell_type": "code",
   "execution_count": 35,
   "metadata": {
    "collapsed": false
   },
   "outputs": [
    {
     "data": {
      "text/plain": [
       "(array([ 1.,  1.,  0.,  0.,  1.,  3.,  1.,  2.,  0.,  1.]),\n",
       " array([ 1.46 ,  1.515,  1.57 ,  1.625,  1.68 ,  1.735,  1.79 ,  1.845,\n",
       "         1.9  ,  1.955,  2.01 ]),\n",
       " <a list of 10 Patch objects>)"
      ]
     },
     "execution_count": 35,
     "metadata": {},
     "output_type": "execute_result"
    },
    {
     "data": {
      "image/png": "[encoded data removed]",
      "text/plain": [
       "<matplotlib.figure.Figure at 0x108be0890>"
      ]
     },
     "metadata": {},
     "output_type": "display_data"
    }
   ],
   "source": [
    "plt.hist(heights)"
   ]
  },
  {
   "cell_type": "code",
   "execution_count": 48,
   "metadata": {
    "collapsed": false
   },
   "outputs": [
    {
     "name": "stdout",
     "output_type": "stream",
     "text": [
      "median: 1.77\n",
      "mode: (array([ 1.88]), array([ 2.]))\n",
      "skewness: -0.466662599037\n",
      "kurtosis: 0.37970468438\n"
     ]
    }
   ],
   "source": [
    "# This is with scipy.stats\n",
    "print \"median:\", st.nanmedian(heights)\n",
    "print \"mode:\", st.mode(heights)\n",
    "print \"skewness:\", st.skew(heights, bias = False)\n",
    "print \"kurtosis:\", st.kurtosis(heights, bias = False)\n",
    "#you need to put bias=False to get comparable results to scipy."
   ]
  },
  {
   "cell_type": "markdown",
   "metadata": {
    "collapsed": true
   },
   "source": [
    "#Probability Distributions"
   ]
  },
  {
   "cell_type": "code",
   "execution_count": 49,
   "metadata": {
    "collapsed": true
   },
   "outputs": [],
   "source": [
    "from scipy.stats import norm\n"
   ]
  },
  {
   "cell_type": "code",
   "execution_count": 50,
   "metadata": {
    "collapsed": false
   },
   "outputs": [
    {
     "name": "stdout",
     "output_type": "stream",
     "text": [
      "<type 'numpy.ndarray'>\n"
     ]
    }
   ],
   "source": [
    "#this gives you a numpy array with 500 elements, randomly valued according to the standard normal distribution (mean = 0, std =1)\n",
    "x_norm = norm.rvs(size = 500)\n",
    "print type(x_norm)"
   ]
  },
  {
   "cell_type": "code",
   "execution_count": 59,
   "metadata": {
    "collapsed": false
   },
   "outputs": [
    {
     "name": "stdout",
     "output_type": "stream",
     "text": [
      "counts [   3.    9.   22.   53.  110.  126.   89.   55.   26.    7.]\n",
      "bin centers [-3.09987191 -2.52263114 -1.94539038 -1.36814961 -0.79090885 -0.21366808\n",
      "  0.36357268  0.94081345  1.51805421  2.09529498  2.67253574]\n"
     ]
    },
    {
     "data": {
      "image/png": "[encoded data removed]",
      "text/plain": [
       "<matplotlib.figure.Figure at 0x10e0bf750>"
      ]
     },
     "metadata": {},
     "output_type": "display_data"
    }
   ],
   "source": [
    "h = plt.hist(x_norm, bins = 10)\n",
    "print \"counts\", h[0]\n",
    "print \"bin centers\", h[1]"
   ]
  },
  {
   "cell_type": "code",
   "execution_count": 55,
   "metadata": {
    "collapsed": false
   },
   "outputs": [
    {
     "name": "stdout",
     "output_type": "stream",
     "text": [
      "mean: 0.0362661704009\n",
      "std 0.94778025692\n"
     ]
    }
   ],
   "source": [
    "#mean and standard deviation are not quite exactly 0 and 1\n",
    "print \"mean:\", x_norm.mean()\n",
    "print \"std\", x_norm.std()"
   ]
  },
  {
   "cell_type": "code",
   "execution_count": 60,
   "metadata": {
    "collapsed": false
   },
   "outputs": [
    {
     "data": {
      "image/png": "[encoded data removed]",
      "text/plain": [
       "<matplotlib.figure.Figure at 0x10dab23d0>"
      ]
     },
     "metadata": {},
     "output_type": "display_data"
    }
   ],
   "source": [
    "#normed makes the area under the curve sum to 1\n",
    "h = plt.hist(x_norm, normed = True, bins = 20)"
   ]
  },
  {
   "cell_type": "code",
   "execution_count": 61,
   "metadata": {
    "collapsed": false
   },
   "outputs": [
    {
     "name": "stdout",
     "output_type": "stream",
     "text": [
      "mean: 0.0362661704009\n",
      "std 0.94778025692\n"
     ]
    }
   ],
   "source": [
    "print \"mean:\", x_norm.mean()\n",
    "print \"std\", x_norm.std()"
   ]
  },
  {
   "cell_type": "code",
   "execution_count": 69,
   "metadata": {
    "collapsed": false
   },
   "outputs": [
    {
     "data": {
      "image/png": "[encoded data removed]",
      "text/plain": [
       "<matplotlib.figure.Figure at 0x10dd53450>"
      ]
     },
     "metadata": {},
     "output_type": "display_data"
    }
   ],
   "source": [
    "x = np.linspace(-3,3,50)\n",
    "h = plt.hist(x_norm, normed = True, bins = 20)\n",
    "#this uses the probability distribution function of our normal distribution function to see how these overlay each other\n",
    "p = plt.plot(x, norm.pdf(x), 'r-')"
   ]
  },
  {
   "cell_type": "code",
   "execution_count": 73,
   "metadata": {
    "collapsed": false
   },
   "outputs": [
    {
     "name": "stdout",
     "output_type": "stream",
     "text": [
      "95.45% of values lie between -2 and +2\n"
     ]
    },
    {
     "data": {
      "image/png": "[encoded data removed]",
      "text/plain": [
       "<matplotlib.figure.Figure at 0x10e5b4c50>"
      ]
     },
     "metadata": {},
     "output_type": "display_data"
    }
   ],
   "source": [
    "# calculate the probability of the next value from a random variable falling inside a certain range\n",
    "from scipy.integrate import trapz #trapezoidal integration(calculating the area under a trapezoid)\n",
    "x1 = np.linspace(-2,2,100)\n",
    "p = trapz(norm.pdf(x1),x1) #sums up area under the curve\n",
    "print \"{:.2%} of values lie between -2 and +2\".format(p)\n",
    "fb = plt.fill_between(x1, norm.pdf(x1), color = \"gray\")\n",
    "p = plt.plot(x, norm.pdf(x), '-k')\n",
    "# I don't yet understand how this probability density function is working"
   ]
  },
  {
   "cell_type": "code",
   "execution_count": 74,
   "metadata": {
    "collapsed": false
   },
   "outputs": [
    {
     "name": "stdout",
     "output_type": "stream",
     "text": [
      "[-2.         -1.95959596 -1.91919192 -1.87878788 -1.83838384 -1.7979798\n",
      " -1.75757576 -1.71717172 -1.67676768 -1.63636364 -1.5959596  -1.55555556\n",
      " -1.51515152 -1.47474747 -1.43434343 -1.39393939 -1.35353535 -1.31313131\n",
      " -1.27272727 -1.23232323 -1.19191919 -1.15151515 -1.11111111 -1.07070707\n",
      " -1.03030303 -0.98989899 -0.94949495 -0.90909091 -0.86868687 -0.82828283\n",
      " -0.78787879 -0.74747475 -0.70707071 -0.66666667 -0.62626263 -0.58585859\n",
      " -0.54545455 -0.50505051 -0.46464646 -0.42424242 -0.38383838 -0.34343434\n",
      " -0.3030303  -0.26262626 -0.22222222 -0.18181818 -0.14141414 -0.1010101\n",
      " -0.06060606 -0.02020202  0.02020202  0.06060606  0.1010101   0.14141414\n",
      "  0.18181818  0.22222222  0.26262626  0.3030303   0.34343434  0.38383838\n",
      "  0.42424242  0.46464646  0.50505051  0.54545455  0.58585859  0.62626263\n",
      "  0.66666667  0.70707071  0.74747475  0.78787879  0.82828283  0.86868687\n",
      "  0.90909091  0.94949495  0.98989899  1.03030303  1.07070707  1.11111111\n",
      "  1.15151515  1.19191919  1.23232323  1.27272727  1.31313131  1.35353535\n",
      "  1.39393939  1.43434343  1.47474747  1.51515152  1.55555556  1.5959596\n",
      "  1.63636364  1.67676768  1.71717172  1.75757576  1.7979798   1.83838384\n",
      "  1.87878788  1.91919192  1.95959596  2.        ]\n"
     ]
    }
   ],
   "source": [
    "print(x1)"
   ]
  },
  {
   "cell_type": "code",
   "execution_count": 78,
   "metadata": {
    "collapsed": false
   },
   "outputs": [
    {
     "name": "stdout",
     "output_type": "stream",
     "text": [
      "13.59% of values lie between -2 and +2\n"
     ]
    },
    {
     "data": {
      "image/png": "[encoded data removed]",
      "text/plain": [
       "<matplotlib.figure.Figure at 0x10dfb68d0>"
      ]
     },
     "metadata": {},
     "output_type": "display_data"
    }
   ],
   "source": [
    "x1 = np.linspace(-2,-1,100)\n",
    "p = trapz(norm.pdf(x1),x1) #sums up area under the curve\n",
    "print \"{:.2%} of values lie between -2 and +2\".format(p)\n",
    "fb = plt.fill_between(x1, norm.pdf(x1), color = \"gray\")\n",
    "p = plt.plot(x, norm.pdf(x), '-k')"
   ]
  },
  {
   "cell_type": "code",
   "execution_count": null,
   "metadata": {
    "collapsed": true
   },
   "outputs": [],
   "source": []
  }
 ],
 "metadata": {
  "kernelspec": {
   "display_name": "Python 2",
   "language": "python",
   "name": "python2"
  },
  "language_info": {
   "codemirror_mode": {
    "name": "ipython",
    "version": 2
   },
   "file_extension": ".py",
   "mimetype": "text/x-python",
   "name": "python",
   "nbconvert_exporter": "python",
   "pygments_lexer": "ipython2",
   "version": "2.7.10"
  }
 },
 "nbformat": 4,
 "nbformat_minor": 0
}
